{
 "cells": [
  {
   "cell_type": "markdown",
   "metadata": {},
   "source": [
    "# Data Prep"
   ]
  },
  {
   "cell_type": "code",
   "execution_count": 14,
   "metadata": {},
   "outputs": [],
   "source": [
    "import pandas as pd\n",
    "import numpy as np\n",
    "import os\n",
    "from sklearn.preprocessing import OneHotEncoder\n",
    "from sklearn.model_selection import StratifiedShuffleSplit\n",
    "from sklearn.impute import SimpleImputer\n",
    "from sklearn.preprocessing import StandardScaler"
   ]
  },
  {
   "cell_type": "code",
   "execution_count": 15,
   "metadata": {},
   "outputs": [],
   "source": [
    "# import data\n",
    "pwd = os.getcwd()\n",
    "filepath = os.path.join(pwd, \"housing.csv\")\n",
    "housing_data = pd.read_csv(filepath)"
   ]
  },
  {
   "cell_type": "code",
   "execution_count": 16,
   "metadata": {},
   "outputs": [],
   "source": [
    "# group income into categories\n",
    "housing_data['income_cat'] = pd.cut(x=housing_data['median_income'], bins=[0., 1.5, 3.0, 4.5, 6., np.inf], labels= [1, 2, 3, 4, 5])\n"
   ]
  },
  {
   "cell_type": "code",
   "execution_count": 17,
   "metadata": {},
   "outputs": [],
   "source": [
    "# statified split based on the income categories \n",
    "split = StratifiedShuffleSplit(n_splits=1, test_size=0.2, random_state=42)\n",
    "for train_index, test_index in split.split(housing_data, housing_data[\"income_cat\"]):\n",
    "    strat_train_set = housing_data.loc[train_index]\n",
    "    strat_test_set = housing_data.loc[test_index]"
   ]
  },
  {
   "cell_type": "code",
   "execution_count": 18,
   "metadata": {},
   "outputs": [],
   "source": [
    "# drop now unneccessary income_cat cols\n",
    "strat_train_set.drop(\"income_cat\", axis=\"columns\", inplace=True)\n",
    "strat_test_set.drop(\"income_cat\", axis=\"columns\", inplace=True)"
   ]
  },
  {
   "cell_type": "code",
   "execution_count": 19,
   "metadata": {},
   "outputs": [],
   "source": [
    "# split data into input features and target output\n",
    "#X = strat_train_set.drop(\"median_house_value\", axis=1)\n",
    "#y = strat_train_set[\"median_house_value\"].copy()\n"
   ]
  },
  {
   "cell_type": "code",
   "execution_count": 20,
   "metadata": {},
   "outputs": [],
   "source": [
    "# feature engineering function\n",
    "\n",
    "def feature_engineering(data):\n",
    "        data[\"bedrooms_per_household\"] = data[\"total_bedrooms\"] / data[\"households\"]\n",
    "        data[\"population_per_household\"] = data[\"population\"] / data[\"households\"]\n",
    "        data[\"rooms_per_household\"] = data[\"total_rooms\"] / data[\"households\"]\n",
    "        return data"
   ]
  },
  {
   "cell_type": "code",
   "execution_count": 21,
   "metadata": {},
   "outputs": [],
   "source": [
    "# data transformation function\n",
    "\n",
    "def data_transformations(data):\n",
    "\n",
    "    if \"median_house_value\" in data.columns:\n",
    "        labels = data[\"median_house_value\"]\n",
    "        data = data.drop(\"median_house_value\", axis=1)\n",
    "\n",
    "    else:\n",
    "        labels = None\n",
    "\n",
    "    # feature engineering\n",
    "    feature_engineered_data = feature_engineering(data)\n",
    "    features = list(feature_engineered_data.columns)\n",
    "\n",
    "    # impute missing values\n",
    "    imputer = SimpleImputer(strategy=\"median\")\n",
    "    data_num = feature_engineered_data.select_dtypes(include=[np.number])\n",
    "    data_imputed = imputer.fit_transform(data_num)\n",
    "    \n",
    "    # encode categorical variables\n",
    "    data_cat = feature_engineered_data.select_dtypes(exclude=[np.number])\n",
    "    cat_encoder = OneHotEncoder(sparse=False)\n",
    "    data_cat_1hot = cat_encoder.fit_transform(data_cat)\n",
    "\n",
    "    features = features + cat_encoder.categories_[0].tolist()\n",
    "    features.remove(\"ocean_proximity\") # We're encoding this variable, so we don't need it in our list anymore\n",
    "\n",
    "    # scaling\n",
    "    scaler = StandardScaler()\n",
    "    data_scaled = scaler.fit_transform(data_imputed)\n",
    "\n",
    "    # concatenating data \n",
    "    output = np.hstack([data_scaled, data_cat_1hot])\n",
    "\n",
    "    return output, labels, features"
   ]
  },
  {
   "cell_type": "code",
   "execution_count": 22,
   "metadata": {},
   "outputs": [],
   "source": [
    "# applying transformation to train and test sets\n",
    "X_train, y_train, features = data_transformations(strat_train_set)\n",
    "\n",
    "X_test, y_test, features = data_transformations(strat_test_set)"
   ]
  },
  {
   "cell_type": "markdown",
   "metadata": {},
   "source": [
    "# Model Testing"
   ]
  },
  {
   "cell_type": "markdown",
   "metadata": {},
   "source": [
    "## Linear Regression"
   ]
  },
  {
   "cell_type": "code",
   "execution_count": 23,
   "metadata": {},
   "outputs": [
    {
     "data": {
      "text/plain": [
       "LinearRegression()"
      ]
     },
     "execution_count": 23,
     "metadata": {},
     "output_type": "execute_result"
    }
   ],
   "source": [
    "from sklearn.linear_model import LinearRegression\n",
    "\n",
    "lin_reg = LinearRegression() # Create Linear Regression Object\n",
    "lin_reg.fit(X_train, y_train)"
   ]
  },
  {
   "cell_type": "markdown",
   "metadata": {},
   "source": [
    "## Decision Tree Regression"
   ]
  },
  {
   "cell_type": "code",
   "execution_count": 24,
   "metadata": {},
   "outputs": [
    {
     "data": {
      "text/plain": [
       "DecisionTreeRegressor(random_state=42)"
      ]
     },
     "execution_count": 24,
     "metadata": {},
     "output_type": "execute_result"
    }
   ],
   "source": [
    "from sklearn.tree import DecisionTreeRegressor\n",
    "\n",
    "tree_reg = DecisionTreeRegressor(random_state=42)\n",
    "tree_reg.fit(X_train, y_train)"
   ]
  },
  {
   "cell_type": "markdown",
   "metadata": {},
   "source": [
    "# Random Forest Regression"
   ]
  },
  {
   "cell_type": "code",
   "execution_count": 25,
   "metadata": {},
   "outputs": [],
   "source": [
    "from sklearn.metrics import mean_squared_error\n",
    "from sklearn.model_selection import RandomizedSearchCV\n",
    "from scipy.stats import randint\n",
    "from sklearn.model_selection import GridSearchCV"
   ]
  },
  {
   "cell_type": "code",
   "execution_count": null,
   "metadata": {},
   "outputs": [],
   "source": [
    "from sklearn.ensemble import RandomForestRegressor\n",
    "\n",
    "forest_reg = RandomForestRegressor(random_state=42)\n",
    "\n",
    "params_rf = {\n",
    "    'n_estimators': randint(low=1, high=200), # No of trees\n",
    "    'max_depth': randint(low=1, high=15), # maximum depth to explore\n",
    "    'min_samples_split':[5], # minimum samples required for split\n",
    "    'min_samples_leaf':[5], # minimum samples required at leaf\n",
    "    'max_features': ['auto'] # number of features for the best split\n",
    "}\n",
    "\n",
    "rnd_search_rf = RandomizedSearchCV(estimator = forest_reg, # regressor we want to use\n",
    "                       param_distributions = params_rf, # Hyperparameter space\n",
    "                       scoring ='neg_mean_squared_error', # MSE will be performance metric\n",
    "                       cv = 5, # #of folds\n",
    "                       n_iter=10,\n",
    "                       random_state=42)\n",
    "\n",
    "# fit the model\n",
    "rnd_search_rf.fit(X_train, y_train)"
   ]
  },
  {
   "cell_type": "code",
   "execution_count": null,
   "metadata": {},
   "outputs": [
    {
     "data": {
      "text/plain": [
       "RandomForestRegressor(max_depth=13, min_samples_leaf=5, min_samples_split=5,\n",
       "                      n_estimators=21, random_state=42)"
      ]
     },
     "execution_count": 32,
     "metadata": {},
     "output_type": "execute_result"
    }
   ],
   "source": [
    "rnd_search_rf.best_estimator_"
   ]
  },
  {
   "cell_type": "code",
   "execution_count": null,
   "metadata": {},
   "outputs": [
    {
     "name": "stdout",
     "output_type": "stream",
     "text": [
      "57944.67954075505 {'max_depth': 7, 'max_features': 'auto', 'min_samples_leaf': 5, 'min_samples_split': 5, 'n_estimators': 180}\n",
      "52533.45492466211 {'max_depth': 13, 'max_features': 'auto', 'min_samples_leaf': 5, 'min_samples_split': 5, 'n_estimators': 15}\n",
      "52505.51853301992 {'max_depth': 11, 'max_features': 'auto', 'min_samples_leaf': 5, 'min_samples_split': 5, 'n_estimators': 72}\n",
      "52272.57161714732 {'max_depth': 13, 'max_features': 'auto', 'min_samples_leaf': 5, 'min_samples_split': 5, 'n_estimators': 21}\n",
      "57922.34784751652 {'max_depth': 7, 'max_features': 'auto', 'min_samples_leaf': 5, 'min_samples_split': 5, 'n_estimators': 122}\n",
      "72684.98213861941 {'max_depth': 3, 'max_features': 'auto', 'min_samples_leaf': 5, 'min_samples_split': 5, 'n_estimators': 75}\n",
      "52462.46120823257 {'max_depth': 11, 'max_features': 'auto', 'min_samples_leaf': 5, 'min_samples_split': 5, 'n_estimators': 88}\n",
      "64106.837733946406 {'max_depth': 5, 'max_features': 'auto', 'min_samples_leaf': 5, 'min_samples_split': 5, 'n_estimators': 100}\n",
      "55892.98700964209 {'max_depth': 8, 'max_features': 'auto', 'min_samples_leaf': 5, 'min_samples_split': 5, 'n_estimators': 152}\n",
      "72778.70598678714 {'max_depth': 3, 'max_features': 'auto', 'min_samples_leaf': 5, 'min_samples_split': 5, 'n_estimators': 150}\n"
     ]
    }
   ],
   "source": [
    "cvres = rnd_search_rf.cv_results_\n",
    "for mean_score, params in zip(cvres[\"mean_test_score\"], cvres[\"params\"]):\n",
    "    print(np.sqrt(-mean_score), params)"
   ]
  },
  {
   "cell_type": "code",
   "execution_count": null,
   "metadata": {},
   "outputs": [
    {
     "data": {
      "text/plain": [
       "GridSearchCV(cv=5, estimator=RandomForestRegressor(random_state=42),\n",
       "             param_grid=[{'max_features': ['auto'],\n",
       "                          'n_estimators': [20, 25, 30, 35]},\n",
       "                         {'bootstrap': [False], 'max_features': ['auto'],\n",
       "                          'n_estimators': [20, 25, 30, 35]}],\n",
       "             return_train_score=True, scoring='neg_mean_squared_error')"
      ]
     },
     "execution_count": 34,
     "metadata": {},
     "output_type": "execute_result"
    }
   ],
   "source": [
    "param_grid = [\n",
    "    # try 4 (4×1) combinations of hyperparameters\n",
    "    {'n_estimators': [20, 25, 30, 35], 'max_features': ['auto']},\n",
    "    # then try 4 (4×1) combinations with bootstrap set as False\n",
    "    {'bootstrap': [False], 'n_estimators': [20, 25, 30, 35], 'max_features': ['auto']},\n",
    "  ]\n",
    "\n",
    "forest_reg = RandomForestRegressor(random_state=42)\n",
    "\n",
    "grid_search = GridSearchCV(forest_reg, param_grid, cv=5,\n",
    "                           scoring='neg_mean_squared_error',\n",
    "                           return_train_score=True)\n",
    "grid_search.fit(X_train, y_train)"
   ]
  },
  {
   "cell_type": "code",
   "execution_count": null,
   "metadata": {},
   "outputs": [
    {
     "name": "stdout",
     "output_type": "stream",
     "text": [
      "51967.13669151316 {'max_features': 'auto', 'n_estimators': 20}\n",
      "51707.8660985411 {'max_features': 'auto', 'n_estimators': 25}\n",
      "51601.76770631035 {'max_features': 'auto', 'n_estimators': 30}\n",
      "51460.23444314958 {'max_features': 'auto', 'n_estimators': 35}\n",
      "68608.66945183206 {'bootstrap': False, 'max_features': 'auto', 'n_estimators': 20}\n",
      "68596.46716221633 {'bootstrap': False, 'max_features': 'auto', 'n_estimators': 25}\n",
      "68577.38985660193 {'bootstrap': False, 'max_features': 'auto', 'n_estimators': 30}\n",
      "68555.6677391545 {'bootstrap': False, 'max_features': 'auto', 'n_estimators': 35}\n"
     ]
    }
   ],
   "source": [
    "cvres = grid_search.cv_results_\n",
    "for mean_score, params in zip(cvres[\"mean_test_score\"], cvres[\"params\"]):\n",
    "    print(np.sqrt(-mean_score), params)"
   ]
  },
  {
   "cell_type": "markdown",
   "metadata": {},
   "source": [
    "Bootstrap should be kept TRUE. increasing n_estimators lowers the score. Let's run gridsearch again to see how high n_estimators can go before score worsens."
   ]
  },
  {
   "cell_type": "code",
   "execution_count": null,
   "metadata": {},
   "outputs": [
    {
     "data": {
      "text/plain": [
       "GridSearchCV(cv=5, estimator=RandomForestRegressor(random_state=42),\n",
       "             param_grid=[{'max_features': ['auto'],\n",
       "                          'n_estimators': [35, 40, 45, 50, 55, 60]}],\n",
       "             return_train_score=True, scoring='neg_mean_squared_error')"
      ]
     },
     "execution_count": 36,
     "metadata": {},
     "output_type": "execute_result"
    }
   ],
   "source": [
    "param_grid = [\n",
    "\n",
    "    {'n_estimators': [35, 40, 45, 50, 55, 60], 'max_features': ['auto']},\n",
    "        \n",
    "  ]\n",
    "\n",
    "forest_reg = RandomForestRegressor(random_state=42)\n",
    "\n",
    "grid_search = GridSearchCV(forest_reg, param_grid, cv=5,\n",
    "                           scoring='neg_mean_squared_error',\n",
    "                           return_train_score=True)\n",
    "grid_search.fit(X_train, y_train)"
   ]
  },
  {
   "cell_type": "code",
   "execution_count": null,
   "metadata": {},
   "outputs": [
    {
     "name": "stdout",
     "output_type": "stream",
     "text": [
      "51460.23444314958 {'max_features': 'auto', 'n_estimators': 35}\n",
      "51379.28031749228 {'max_features': 'auto', 'n_estimators': 40}\n",
      "51311.21814606854 {'max_features': 'auto', 'n_estimators': 45}\n",
      "51245.40545693655 {'max_features': 'auto', 'n_estimators': 50}\n",
      "51170.37954886524 {'max_features': 'auto', 'n_estimators': 55}\n",
      "51131.46273181215 {'max_features': 'auto', 'n_estimators': 60}\n"
     ]
    }
   ],
   "source": [
    "cvres = grid_search.cv_results_\n",
    "for mean_score, params in zip(cvres[\"mean_test_score\"], cvres[\"params\"]):\n",
    "    print(np.sqrt(-mean_score), params)"
   ]
  },
  {
   "cell_type": "code",
   "execution_count": 27,
   "metadata": {},
   "outputs": [
    {
     "data": {
      "text/plain": [
       "GridSearchCV(cv=5, estimator=RandomForestRegressor(random_state=42),\n",
       "             param_grid=[{'max_features': ['auto'],\n",
       "                          'n_estimators': [600, 750, 800]}],\n",
       "             return_train_score=True, scoring='neg_mean_squared_error')"
      ]
     },
     "execution_count": 27,
     "metadata": {},
     "output_type": "execute_result"
    }
   ],
   "source": [
    "param_grid = [\n",
    "\n",
    "    {'n_estimators': [600, 750, 800], 'max_features': ['auto']},\n",
    "        \n",
    "  ]\n",
    "\n",
    "forest_reg = RandomForestRegressor(random_state=42)\n",
    "\n",
    "grid_search = GridSearchCV(forest_reg, param_grid, cv=5,\n",
    "                           scoring='neg_mean_squared_error',\n",
    "                           return_train_score=True)\n",
    "grid_search.fit(X_train, y_train)"
   ]
  },
  {
   "cell_type": "code",
   "execution_count": 28,
   "metadata": {},
   "outputs": [
    {
     "name": "stdout",
     "output_type": "stream",
     "text": [
      "50720.53696751803 {'max_features': 'auto', 'n_estimators': 600}\n",
      "50711.686268065874 {'max_features': 'auto', 'n_estimators': 750}\n",
      "50708.40828974005 {'max_features': 'auto', 'n_estimators': 800}\n"
     ]
    }
   ],
   "source": [
    "cvres = grid_search.cv_results_\n",
    "for mean_score, params in zip(cvres[\"mean_test_score\"], cvres[\"params\"]):\n",
    "    print(np.sqrt(-mean_score), params)"
   ]
  },
  {
   "cell_type": "code",
   "execution_count": 39,
   "metadata": {},
   "outputs": [],
   "source": [
    "best_rf_model = grid_search.best_estimator_"
   ]
  },
  {
   "cell_type": "markdown",
   "metadata": {},
   "source": [
    "## Ridge Regression"
   ]
  },
  {
   "cell_type": "code",
   "execution_count": 29,
   "metadata": {},
   "outputs": [
    {
     "name": "stdout",
     "output_type": "stream",
     "text": [
      "Fitting 3 folds for each of 96 candidates, totalling 288 fits\n"
     ]
    },
    {
     "data": {
      "text/plain": [
       "GridSearchCV(cv=3, estimator=Ridge(random_state=42), n_jobs=-1,\n",
       "             param_grid={'alpha': [1e-15, 1e-10, 1e-08, 0.0009, 0.0007, 0.0005,\n",
       "                                   0.0003, 0.0001, 0.001, 0.05, 0.01, 0.1, 0.3,\n",
       "                                   1, 3, 5, 10, 15, 18, 20, 30, 50, 75, 100],\n",
       "                         'solver': ['auto', 'saga', 'sag', 'cholesky']},\n",
       "             scoring='neg_mean_squared_error', verbose=1)"
      ]
     },
     "execution_count": 29,
     "metadata": {},
     "output_type": "execute_result"
    }
   ],
   "source": [
    "from sklearn.linear_model import Ridge\n",
    "\n",
    "ridge = Ridge(random_state=42)\n",
    "\n",
    "params_ridge = {\n",
    "    'alpha': [1e-15, 1e-10, 1e-8, 9e-4, 7e-4, 5e-4, 3e-4, 1e-4, 1e-3, 5e-2, 1e-2, 0.1, 0.3, 1, 3, 5, 10, 15, 18, 20, 30, 50, 75, 100], #L2 parameter space\n",
    "    'solver': ['auto','saga','sag','cholesky']\n",
    "}\n",
    "\n",
    "grid_ridge = GridSearchCV(estimator = ridge, # regressor we want to use\n",
    "                       param_grid = params_ridge, # Hyperparameter space\n",
    "                       scoring ='neg_mean_squared_error',\n",
    "                       cv = 3, # No of folds\n",
    "                       verbose = 1,\n",
    "                       n_jobs = -1) # use all cores\n",
    "\n",
    "# fit the model\n",
    "grid_ridge.fit(X_train, y_train)"
   ]
  },
  {
   "cell_type": "code",
   "execution_count": 30,
   "metadata": {},
   "outputs": [
    {
     "name": "stdout",
     "output_type": "stream",
     "text": [
      "CV Score for best RidgeRegressor model: 69160.45\n"
     ]
    }
   ],
   "source": [
    "# Defining CV Score function we will use to calculate the scores\n",
    "def cv_score(score):\n",
    "    rmse = np.sqrt(-score) # -score because we are using \"neg_mean_squared_error\" as our metric\n",
    "    return (rmse)\n",
    "\n",
    "print('CV Score for best RidgeRegressor model: {:.2f}'.format(cv_score(grid_ridge.best_score_)))"
   ]
  },
  {
   "cell_type": "code",
   "execution_count": 31,
   "metadata": {},
   "outputs": [],
   "source": [
    "best_model_ridge = grid_ridge.best_estimator_"
   ]
  },
  {
   "cell_type": "markdown",
   "metadata": {},
   "source": [
    "##  ElasticNet Regression"
   ]
  },
  {
   "cell_type": "code",
   "execution_count": 32,
   "metadata": {},
   "outputs": [
    {
     "name": "stdout",
     "output_type": "stream",
     "text": [
      "Fitting 3 folds for each of 75 candidates, totalling 225 fits\n"
     ]
    },
    {
     "data": {
      "text/plain": [
       "GridSearchCV(cv=3, estimator=ElasticNet(random_state=42), n_jobs=-1,\n",
       "             param_grid={'alpha': [0.0009, 0.0007, 0.0005, 0.0003, 0.0001,\n",
       "                                   0.001, 0.05, 0.01, 0.1, 0.3, 1, 3, 5, 10,\n",
       "                                   15],\n",
       "                         'l1_ratio': [0.01, 0.1, 0.3, 0.5, 0.8]},\n",
       "             scoring='neg_mean_squared_error', verbose=1)"
      ]
     },
     "execution_count": 32,
     "metadata": {},
     "output_type": "execute_result"
    }
   ],
   "source": [
    "from sklearn.linear_model import ElasticNet\n",
    "\n",
    "# Instantiate the Ridge Regressor\n",
    "elastic = ElasticNet(random_state=42)\n",
    "\n",
    "# Creating Parameter grid for GridSearch CV\n",
    "params_elastic = {\n",
    "    'alpha': [ 9e-4, 7e-4, 5e-4, 3e-4, 1e-4, 1e-3, 5e-2, 1e-2, 0.1, 0.3, 1, 3, 5, 10, 15], #L2 regularization parameter space\n",
    "    'l1_ratio': [0.01,0.1,0.3,0.5,0.8] #L1 regularization parameter space\n",
    "}\n",
    "\n",
    "# Instantiate grid search using GradientBoostingRegressor\n",
    "grid_elastic = GridSearchCV(estimator = elastic, # regressor we want to use\n",
    "                       param_grid = params_elastic, # Hyperparameter space\n",
    "                       scoring ='neg_mean_squared_error',\n",
    "                       cv = 3, # No of folds\n",
    "                       verbose = 1,\n",
    "                       n_jobs = -1) # use all cores\n",
    "\n",
    "# fit the model\n",
    "grid_elastic.fit(X_train, y_train)"
   ]
  },
  {
   "cell_type": "code",
   "execution_count": 33,
   "metadata": {},
   "outputs": [
    {
     "name": "stdout",
     "output_type": "stream",
     "text": [
      "CV Score for best ElasticNet model: 69160.35\n"
     ]
    }
   ],
   "source": [
    "print('CV Score for best ElasticNet model: {:.2f}'.format(cv_score(grid_elastic.best_score_)))"
   ]
  },
  {
   "cell_type": "code",
   "execution_count": 34,
   "metadata": {},
   "outputs": [],
   "source": [
    "best_model_elastic = grid_elastic.best_estimator_"
   ]
  },
  {
   "cell_type": "markdown",
   "metadata": {},
   "source": [
    "## XGBoost"
   ]
  },
  {
   "cell_type": "code",
   "execution_count": 35,
   "metadata": {},
   "outputs": [
    {
     "name": "stderr",
     "output_type": "stream",
     "text": [
      "c:\\Users\\aksc7\\miniconda3\\envs\\sklearn-env\\lib\\site-packages\\xgboost\\compat.py:36: FutureWarning: pandas.Int64Index is deprecated and will be removed from pandas in a future version. Use pandas.Index with the appropriate dtype instead.\n",
      "  from pandas import MultiIndex, Int64Index\n"
     ]
    },
    {
     "name": "stdout",
     "output_type": "stream",
     "text": [
      "Fitting 3 folds for each of 15 candidates, totalling 45 fits\n",
      "[10:52:48] WARNING: c:\\windows\\temp\\abs_557yfx631l\\croots\\recipe\\xgboost-split_1659548953302\\work\\src\\objective\\regression_obj.cu:188: reg:linear is now deprecated in favor of reg:squarederror.\n"
     ]
    },
    {
     "data": {
      "text/plain": [
       "GridSearchCV(cv=3,\n",
       "             estimator=XGBRegressor(base_score=None, booster=None,\n",
       "                                    colsample_bylevel=None,\n",
       "                                    colsample_bynode=None,\n",
       "                                    colsample_bytree=None,\n",
       "                                    enable_categorical=False, gamma=None,\n",
       "                                    gpu_id=None, importance_type=None,\n",
       "                                    interaction_constraints=None,\n",
       "                                    learning_rate=None, max_delta_step=None,\n",
       "                                    max_depth=None, min_child_weight=None,\n",
       "                                    missing=nan, monotone_constraints=None,\n",
       "                                    n_estimators=100, n_jobs=None,\n",
       "                                    num_parallel_tree=None,\n",
       "                                    objective='reg:linear', predictor=None,\n",
       "                                    random_state=None, reg_alpha=None,\n",
       "                                    reg_lambda=None, scale_pos_weight=None,\n",
       "                                    subsample=None, tree_method=None,\n",
       "                                    validate_parameters=None, verbosity=None),\n",
       "             n_jobs=-1, param_grid={'n_estimators': range(50, 800, 50)},\n",
       "             scoring='neg_mean_squared_error', verbose=1)"
      ]
     },
     "execution_count": 35,
     "metadata": {},
     "output_type": "execute_result"
    }
   ],
   "source": [
    "import xgboost as xgb\n",
    "\n",
    "# Instantiate the SVM Regressor\n",
    "xgbr = xgb.XGBRegressor(objective='reg:linear')\n",
    "\n",
    "# Creating Parameter grid for GridSearch CV\n",
    "params_xgb = {\n",
    "    'n_estimators': range(50, 800, 50)\n",
    "}\n",
    "\n",
    "# Instantiate grid search using GradientBoostingRegressor\n",
    "grid_xgb = GridSearchCV(estimator = xgbr, # regressor we want to use\n",
    "                       param_grid = params_xgb, # Hyperparameter space\n",
    "                       scoring ='neg_mean_squared_error',\n",
    "                       cv = 3, # No. of folds\n",
    "                       verbose = 1,\n",
    "                       n_jobs = -1) # use all cores\n",
    "\n",
    "# fit the model\n",
    "grid_xgb.fit(X_train, y_train)"
   ]
  },
  {
   "cell_type": "code",
   "execution_count": 36,
   "metadata": {},
   "outputs": [
    {
     "name": "stdout",
     "output_type": "stream",
     "text": [
      "48807.0735705334 {'n_estimators': 50}\n",
      "48445.99449491899 {'n_estimators': 100}\n",
      "48504.679684689545 {'n_estimators': 150}\n",
      "48445.51906659618 {'n_estimators': 200}\n",
      "48485.583250452386 {'n_estimators': 250}\n",
      "48531.413011462115 {'n_estimators': 300}\n",
      "48561.12947477786 {'n_estimators': 350}\n",
      "48576.87183617159 {'n_estimators': 400}\n",
      "48601.2699336978 {'n_estimators': 450}\n",
      "48624.32214846079 {'n_estimators': 500}\n",
      "48647.39982984343 {'n_estimators': 550}\n",
      "48657.391640747584 {'n_estimators': 600}\n",
      "48660.795144112824 {'n_estimators': 650}\n",
      "48665.02026606957 {'n_estimators': 700}\n",
      "48677.00614502719 {'n_estimators': 750}\n"
     ]
    }
   ],
   "source": [
    "cvres = grid_xgb.cv_results_\n",
    "for mean_score, params in zip(cvres[\"mean_test_score\"], cvres[\"params\"]):\n",
    "    print(np.sqrt(-mean_score), params)"
   ]
  },
  {
   "cell_type": "code",
   "execution_count": 37,
   "metadata": {},
   "outputs": [
    {
     "data": {
      "text/plain": [
       "{'n_estimators': 200}"
      ]
     },
     "execution_count": 37,
     "metadata": {},
     "output_type": "execute_result"
    }
   ],
   "source": [
    "grid_xgb.best_params_"
   ]
  },
  {
   "cell_type": "code",
   "execution_count": 38,
   "metadata": {},
   "outputs": [],
   "source": [
    "best_xgb_model = grid_xgb.best_estimator_"
   ]
  },
  {
   "cell_type": "markdown",
   "metadata": {},
   "source": [
    "## Ensemble"
   ]
  },
  {
   "cell_type": "code",
   "execution_count": 40,
   "metadata": {},
   "outputs": [
    {
     "name": "stdout",
     "output_type": "stream",
     "text": [
      "[10:54:48] WARNING: c:\\windows\\temp\\abs_557yfx631l\\croots\\recipe\\xgboost-split_1659548953302\\work\\src\\objective\\regression_obj.cu:188: reg:linear is now deprecated in favor of reg:squarederror.\n"
     ]
    }
   ],
   "source": [
    "from sklearn.ensemble import VotingRegressor\n",
    "\n",
    "ereg = VotingRegressor(estimators = [('rf', best_rf_model), ('rd', best_model_ridge), ('el', best_model_elastic), ('xg', best_xgb_model)])\n",
    "ereg = ereg.fit(X_train, y_train)"
   ]
  },
  {
   "cell_type": "code",
   "execution_count": 41,
   "metadata": {},
   "outputs": [
    {
     "name": "stdout",
     "output_type": "stream",
     "text": [
      "[11:00:17] WARNING: c:\\windows\\temp\\abs_557yfx631l\\croots\\recipe\\xgboost-split_1659548953302\\work\\src\\objective\\regression_obj.cu:188: reg:linear is now deprecated in favor of reg:squarederror.\n",
      "[11:02:06] WARNING: c:\\windows\\temp\\abs_557yfx631l\\croots\\recipe\\xgboost-split_1659548953302\\work\\src\\objective\\regression_obj.cu:188: reg:linear is now deprecated in favor of reg:squarederror.\n",
      "[11:03:57] WARNING: c:\\windows\\temp\\abs_557yfx631l\\croots\\recipe\\xgboost-split_1659548953302\\work\\src\\objective\\regression_obj.cu:188: reg:linear is now deprecated in favor of reg:squarederror.\n",
      "[11:08:16] WARNING: c:\\windows\\temp\\abs_557yfx631l\\croots\\recipe\\xgboost-split_1659548953302\\work\\src\\objective\\regression_obj.cu:188: reg:linear is now deprecated in favor of reg:squarederror.\n",
      "[11:13:23] WARNING: c:\\windows\\temp\\abs_557yfx631l\\croots\\recipe\\xgboost-split_1659548953302\\work\\src\\objective\\regression_obj.cu:188: reg:linear is now deprecated in favor of reg:squarederror.\n",
      "[11:17:00] WARNING: c:\\windows\\temp\\abs_557yfx631l\\croots\\recipe\\xgboost-split_1659548953302\\work\\src\\objective\\regression_obj.cu:188: reg:linear is now deprecated in favor of reg:squarederror.\n",
      "[11:18:42] WARNING: c:\\windows\\temp\\abs_557yfx631l\\croots\\recipe\\xgboost-split_1659548953302\\work\\src\\objective\\regression_obj.cu:188: reg:linear is now deprecated in favor of reg:squarederror.\n",
      "[11:20:24] WARNING: c:\\windows\\temp\\abs_557yfx631l\\croots\\recipe\\xgboost-split_1659548953302\\work\\src\\objective\\regression_obj.cu:188: reg:linear is now deprecated in favor of reg:squarederror.\n",
      "[11:22:14] WARNING: c:\\windows\\temp\\abs_557yfx631l\\croots\\recipe\\xgboost-split_1659548953302\\work\\src\\objective\\regression_obj.cu:188: reg:linear is now deprecated in favor of reg:squarederror.\n",
      "[11:23:58] WARNING: c:\\windows\\temp\\abs_557yfx631l\\croots\\recipe\\xgboost-split_1659548953302\\work\\src\\objective\\regression_obj.cu:188: reg:linear is now deprecated in favor of reg:squarederror.\n",
      "Scores: [56342.24318995 51643.06264063 50553.31876811 54923.1590776\n",
      " 51502.42366261 55335.72413917 55281.94547    53883.67389184\n",
      " 51970.26361177 57348.78856022]\n",
      "Mean: 53878.46030118966\n",
      "Standard deviation: 2205.4149089255416\n"
     ]
    }
   ],
   "source": [
    "from sklearn.model_selection import cross_val_score\n",
    "\n",
    "ereg_scores = cross_val_score(ereg, X_train, y_train, scoring=\"neg_mean_squared_error\", cv=10)\n",
    "ereg_rmse_scores = np.sqrt(-ereg_scores)\n",
    "\n",
    "def display_scores(scores):\n",
    "    print(\"Scores:\", scores)\n",
    "    print(\"Mean:\", scores.mean())\n",
    "    print(\"Standard deviation:\", scores.std())\n",
    "\n",
    "display_scores(ereg_rmse_scores)"
   ]
  },
  {
   "cell_type": "markdown",
   "metadata": {},
   "source": [
    "Ensemble method didn't really improve the mean score, so will stick to XGBoost for the final model"
   ]
  },
  {
   "cell_type": "markdown",
   "metadata": {},
   "source": [
    "## Feature Importance"
   ]
  },
  {
   "cell_type": "code",
   "execution_count": 43,
   "metadata": {},
   "outputs": [
    {
     "data": {
      "text/plain": [
       "array([1.5224707e-02, 1.9090116e-02, 1.7720113e-02, 5.5376142e-03,\n",
       "       6.2983762e-03, 6.3672545e-03, 9.9564120e-03, 1.4341114e-01,\n",
       "       6.5574399e-03, 3.9025325e-02, 9.7093759e-03, 8.1816055e-03,\n",
       "       6.6715109e-01, 3.3004192e-04, 2.8652228e-02, 1.6787173e-02],\n",
       "      dtype=float32)"
      ]
     },
     "execution_count": 43,
     "metadata": {},
     "output_type": "execute_result"
    }
   ],
   "source": [
    "feature_importances = best_xgb_model.feature_importances_\n",
    "feature_importances"
   ]
  },
  {
   "cell_type": "code",
   "execution_count": 44,
   "metadata": {},
   "outputs": [
    {
     "data": {
      "text/plain": [
       "[('longitude', 0.015224707312881947),\n",
       " ('latitude', 0.019090116024017334),\n",
       " ('housing_median_age', 0.017720112577080727),\n",
       " ('total_rooms', 0.0055376142263412476),\n",
       " ('total_bedrooms', 0.006298376247286797),\n",
       " ('population', 0.006367254536598921),\n",
       " ('households', 0.009956412017345428),\n",
       " ('median_income', 0.14341114461421967),\n",
       " ('bedrooms_per_household', 0.006557439919561148),\n",
       " ('population_per_household', 0.03902532532811165),\n",
       " ('rooms_per_household', 0.009709375910460949),\n",
       " ('<1H OCEAN', 0.008181605488061905),\n",
       " ('INLAND', 0.6671510934829712),\n",
       " ('ISLAND', 0.00033004191936925054),\n",
       " ('NEAR BAY', 0.02865222841501236),\n",
       " ('NEAR OCEAN', 0.016787173226475716)]"
      ]
     },
     "execution_count": 44,
     "metadata": {},
     "output_type": "execute_result"
    }
   ],
   "source": [
    "feature_importance_list = list(zip(features, feature_importances.tolist()))\n",
    "feature_importance_list"
   ]
  },
  {
   "cell_type": "code",
   "execution_count": 45,
   "metadata": {},
   "outputs": [
    {
     "data": {
      "text/plain": [
       "<BarContainer object of 16 artists>"
      ]
     },
     "execution_count": 45,
     "metadata": {},
     "output_type": "execute_result"
    },
    {
     "data": {
      "image/png": "[encoded data removed]",
      "text/plain": [
       "<Figure size 640x480 with 1 Axes>"
      ]
     },
     "metadata": {},
     "output_type": "display_data"
    }
   ],
   "source": [
    "import matplotlib.pyplot as plt\n",
    "plt.barh(y=features, width=feature_importances.tolist())"
   ]
  },
  {
   "cell_type": "markdown",
   "metadata": {},
   "source": [
    "## Testing"
   ]
  },
  {
   "cell_type": "code",
   "execution_count": 47,
   "metadata": {},
   "outputs": [
    {
     "data": {
      "text/plain": [
       "75256.98800654519"
      ]
     },
     "execution_count": 47,
     "metadata": {},
     "output_type": "execute_result"
    }
   ],
   "source": [
    "final_model = best_xgb_model\n",
    "\n",
    "final_predictions = final_model.predict(X_test)\n",
    "\n",
    "final_mse = mean_squared_error(y_test, final_predictions)\n",
    "final_rmse = np.sqrt(final_mse)\n",
    "\n",
    "final_rmse"
   ]
  },
  {
   "attachments": {},
   "cell_type": "markdown",
   "metadata": {},
   "source": [
    "The difference in score shows that the model may have overfitted the training data. Further work will need to be done to tweak the model. On reflection, I should have included a validation set and compared the scored between both as I modified the hyperparameters."
   ]
  },
  {
   "cell_type": "markdown",
   "metadata": {},
   "source": [
    "## Model Export"
   ]
  },
  {
   "cell_type": "code",
   "execution_count": 42,
   "metadata": {},
   "outputs": [],
   "source": [
    "import pickle\n",
    "pickle.dump(best_xgb_model, open('house_model_xgb.pkl', 'wb'))"
   ]
  }
 ],
 "metadata": {
  "kernelspec": {
   "display_name": "Python 3.9.7 ('sklearn-env')",
   "language": "python",
   "name": "python3"
  },
  "language_info": {
   "codemirror_mode": {
    "name": "ipython",
    "version": 3
   },
   "file_extension": ".py",
   "mimetype": "text/x-python",
   "name": "python",
   "nbconvert_exporter": "python",
   "pygments_lexer": "ipython3",
   "version": "3.9.15 | packaged by conda-forge | (main, Nov 22 2022, 08:39:05) [MSC v.1929 64 bit (AMD64)]"
  },
  "orig_nbformat": 4,
  "vscode": {
   "interpreter": {
    "hash": "48a4588017cf91f0c5ab83a89f7bfbf0b90739c201c7928f4060b4373bdbb14c"
   }
  }
 },
 "nbformat": 4,
 "nbformat_minor": 2
}
